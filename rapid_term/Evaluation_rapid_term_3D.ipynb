{
 "cells": [
  {
   "cell_type": "code",
   "execution_count": 10,
   "metadata": {},
   "outputs": [
    {
     "name": "stdout",
     "output_type": "stream",
     "text": [
      "/home/pdavid/Bureau/Code/hybrid3d/rapid_term\n"
     ]
    }
   ],
   "source": [
    "import os \n",
    "print(os.getcwd())\n",
    "\n",
    "import numpy as np \n",
    "import matplotlib.pyplot as plt\n",
    "import pdb\n",
    "from numba import njit"
   ]
  },
  {
   "cell_type": "markdown",
   "metadata": {},
   "source": [
    "First of all a little test to show the properties of the integration of the Green's function over closed surfaces, we show this in 2D"
   ]
  },
  {
   "cell_type": "markdown",
   "metadata": {},
   "source": [
    "Definition of the Green's function \n",
    "$$\n",
    "\\nabla^2 G(\\mathbf{x}, \\mathbf{x}^*) = -\\delta(\\mathbf{x} - \\mathbf{x}^*)\n",
    "$$\n",
    "Resulting in\n",
    "$$\n",
    "G(\\mathbf{x}, \\mathbf{x}^*) = \\dfrac{1}{2 \\pi}ln \\left( \\dfrac{a}{||\\mathbf{x} - \\mathbf{x}^*||} \\right)\n",
    "$$\n",
    "where $a$ is an arbitrary constant of integration\n",
    "\n",
    "We wanna show that for $a=R$, where $R$ is the radius of the circumference over which the Green's function is integrated, we obtain:\n",
    "$$\n",
    " P_j = \\begin{cases}\n",
    "      R ln \\Big( \\dfrac{R}{||\\mathbf{x} - \\mathbf{x}_j||} \\Big) & \\text{if } ||\\mathbf{x} - \\mathbf{x}_j|| > R_j\\\\\n",
    "      0 & \\text{if } ||\\mathbf{x} - \\mathbf{x}_j|| \\leq R_j\\\\\n",
    "    \\end{cases}\n",
    "$$"
   ]
  },
  {
   "cell_type": "code",
   "execution_count": 11,
   "metadata": {},
   "outputs": [],
   "source": [
    "#%% - check dipoles\n",
    "N=1000\n",
    "d_t=2*np.pi/N #angle differential\n",
    "theta=np.linspace(0,2*np.pi-d_t,N) #array of angles \n",
    "R=4 #radius of circle\n",
    "x=np.linspace(0,5*R,100) #distance to origin \n",
    "dipol=np.array([]) #array for the double layer potential \n",
    "single=np.array([]) #array for the single layer potential\n",
    "for k in x:\n",
    "    c=0\n",
    "    integral=0\n",
    "    S=0\n",
    "    for i in theta:\n",
    "        x_c=R*np.cos(i)\n",
    "        y_c=R*np.sin(i)\n",
    "        r=-np.array([x_c,y_c])+np.array([0,k])\n",
    "        d=np.linalg.norm(r)\n",
    "        er=r/d\n",
    "        \n",
    "        grad_G=1/(2*np.pi*d)\n",
    "        S+=np.log(R/d)/2/np.pi*R*d_t\n",
    "        n=np.array([np.cos(i), np.sin(i)])\n",
    "        integral+=np.dot(er,n)*grad_G*R*d_t\n",
    "        c+=1\n",
    "    \n",
    "    dipol=np.append(dipol,integral)\n",
    "    single=np.append(single, S)\n",
    "    "
   ]
  },
  {
   "cell_type": "code",
   "execution_count": 12,
   "metadata": {},
   "outputs": [
    {
     "data": {
      "image/png": "[encoded data removed]",
      "text/plain": [
       "<Figure size 432x288 with 1 Axes>"
      ]
     },
     "metadata": {
      "needs_background": "light"
     },
     "output_type": "display_data"
    },
    {
     "name": "stderr",
     "output_type": "stream",
     "text": [
      "<ipython-input-12-9c86ce4e5baa>:3: RuntimeWarning: divide by zero encountered in true_divide\n",
      "  plt.plot(x,R*np.log(R/x), label='$R log(\\dfrac{R}{x})$')\n"
     ]
    },
    {
     "data": {
      "image/png": "[encoded data removed]",
      "text/plain": [
       "<Figure size 432x288 with 1 Axes>"
      ]
     },
     "metadata": {
      "needs_background": "light"
     },
     "output_type": "display_data"
    }
   ],
   "source": [
    "plt.plot(x,dipol); plt.title(\"dipoles\");plt.show()\n",
    "plt.plot(x,single, label='integrated')\n",
    "plt.plot(x,R*np.log(R/x), label='$R log(\\dfrac{R}{x})$') \n",
    "plt.axvline(x=R, color='k', label='radius')\n",
    "plt.legend()\n",
    "plt.title(\"single layer\");plt.show()"
   ]
  },
  {
   "cell_type": "markdown",
   "metadata": {},
   "source": [
    "And similarly with the 3D "
   ]
  },
  {
   "cell_type": "code",
   "execution_count": 13,
   "metadata": {},
   "outputs": [],
   "source": [
    "\n",
    "\n",
    "@njit\n",
    "def Green_3D(x, j, epsilon):\n",
    "    d=np.float64(np.linalg.norm(x-j))\n",
    "    if d<epsilon:\n",
    "        a=np.float64(0)\n",
    "        print(\"EPSILON\")\n",
    "    else:\n",
    "        a=(4*np.pi*d)**-1\n",
    "    return(a)\n",
    "    \n",
    "@njit\n",
    "def grad_Green_3D(x, j, epsilon):\n",
    "    \"\"\"Returns an array of the gradient of the 3D Green's function\n",
    "    j represents the position of the source and x the current calculation point\"\"\"\n",
    "    d=np.float64(np.linalg.norm(x-j))\n",
    "    e_r=(x-j)/d\n",
    "    if d<epsilon:\n",
    "        a=np.zeros(len(x), dtype=np.float64)\n",
    "        print(\"EPSILON\")\n",
    "    else:\n",
    "        a=-e_r*(4*np.pi*d**2)**-1\n",
    "    return(a)\n",
    "    \n",
    "@njit\n",
    "def Green_2D(x, j, epsilon):\n",
    "    d=np.float64(np.linalg.norm(x-j))\n",
    "    if d<epsilon:\n",
    "        a=np.zeros(len(x), dtype=np.float64)\n",
    "    else:\n",
    "        a=1/(2*np.pi)*np.log(1/d)\n",
    "    return(a)\n",
    "\n",
    "@njit\n",
    "def almost_inf_tube(lim,x, points_theta, p_long ,epsilon, A, phi_bar,R):\n",
    "    \"\"\"x is expected to be 0<x<1\n",
    "    points_theta is the expected discretization of the circumference\n",
    "    It integrates over the whole circumference \"\"\"\n",
    "    x_line=np.linspace(-lim,lim,p_long)\n",
    "    h=2*lim/(p_long-1)\n",
    "    theta=np.linspace(0,2*np.pi*(points_theta-1)/points_theta,points_theta)\n",
    "    \n",
    "    dip=0\n",
    "    dth=2*np.pi/points_theta\n",
    "    dz=h\n",
    "    G_3D=0\n",
    "    #pdb.set_trace()\n",
    "    surf=np.float64(0)\n",
    "    for i in x_line:\n",
    "        for th in theta:\n",
    "            normal=np.array([0,np.sin(th), np.cos(th)])\n",
    "            current_point=np.array([i,R*np.sin(th), R*np.cos(th)])\n",
    "\n",
    "            dip+=grad_Green_3D(x, current_point, epsilon).dot(normal)*phi_bar*dth*dz*R\n",
    "            G_3D+=Green_3D(x, current_point, epsilon)*A*dth*dz*R\n",
    "            surf+=dth*dz*R\n",
    "    return(np.array([dip, G_3D, dz, dth],dtype=np.float64))"
   ]
  },
  {
   "cell_type": "code",
   "execution_count": 14,
   "metadata": {},
   "outputs": [],
   "source": [
    "class cylindrical_FV_code():\n",
    "    def __init__(self, L,points, phi_bar, A, Rv):\n",
    "        h=(L-Rv)/points\n",
    "        self.r=np.linspace(Rv+h/2, L-h/2, points)\n",
    "        self.h=h\n",
    "        self.L=L\n",
    "        self.p=points\n",
    "        self.A=A\n",
    "        self.phi_bar=phi_bar\n",
    "        self.Rv=Rv\n",
    "        \n",
    "    def create_matrix(self):\n",
    "        r=self.r\n",
    "        h=self.h\n",
    "        M=np.zeros((len(self.r), len(self.r)))\n",
    "        B=np.zeros(len(r))\n",
    "        A=self.A\n",
    "        for i in np.arange(self.p, dtype=int)[:-2]+1:\n",
    "            #loop that goes through every unknown except the boundaries\n",
    "            M[i,[i-1,i,i+1]]=np.array([r[i]-h/2, -2*r[i], r[i]+h/2])\n",
    "            \n",
    "        #Now the two boundary conditions for the first element\n",
    "        M[0,[1,0]]=[1,-1]\n",
    "        B[0]=(A*self.h)/(1+h/self.Rv)\n",
    "        \n",
    "        M[-1,0]=1\n",
    "        B[-1]=h*A/2+self.phi_bar\n",
    "        self.M=M\n",
    "        self.B=B\n",
    "        return()\n",
    "    \n",
    "    def solve_full_system(self):\n",
    "        self.create_matrix()\n",
    "        FV=np.linalg.solve(self.M, self.B)\n",
    "        return(FV)\n",
    "\n",
    "\n",
    "def run_simulations(points, R, epsilon, A, phi_bar, L, lim, points_theta, DD):\n",
    "    #Parameters problem    \n",
    "    X=np.linspace(0,L,points)\n",
    "    Y=np.linspace(R,L,points)\n",
    "    \n",
    "    t=cylindrical_FV_code(L,points,phi_bar,A,R)\n",
    "    FV=t.solve_full_system()\n",
    "    q=-A*2*np.pi*R\n",
    "    \n",
    "    A_dip=np.zeros((len(X), len(Y)))\n",
    "    A_G=np.zeros((len(X), len(Y)))\n",
    "    \n",
    "    surf=0\n",
    "    \n",
    "    p_long=DD*lim #points of discretization of the long tube\n",
    "    \n",
    "    cc=0\n",
    "    for i in range(len(X)):\n",
    "        for j in range(len(Y)):\n",
    "            #This loop goes through each surface element on the plane \n",
    "            A_dip[j,i], A_G[j,i], dz, dth=almost_inf_tube(lim,np.array([X[i], Y[j], 0]), points_theta, p_long, epsilon,A,phi_bar,R)\n",
    "    \n",
    "            bb=np.array([i,j])\n",
    "            cc+=1\n",
    "            #print(len(X)*len(Y)-cc)\n",
    "        \n",
    "    total_surf=2*np.pi*R*lim*2\n",
    "\n",
    "    C=+A_dip-A_G\n",
    "    \n",
    "    plt.figure()\n",
    "    plt.imshow(C, origin=\"lower\",extent=[X[0],X[-1],Y[0],Y[-1]]); plt.colorbar()\n",
    "    plt.show()\n",
    "    \n",
    "    title_figure=\"Comparison length={}, A={}, B={}, disc={}, R={}, pth={}\".format(lim*2, A, phi_bar, DD,R, points_theta)\n",
    "    print(title_figure)\n",
    "    \n",
    "    plt.figure()\n",
    "    plt.plot(Y,C[:,int(points/2)], '--', label=\"Green's third\")\n",
    "    plt.plot(Y,C[:,int(points/3)], '-.',label=\"Green's third\")\n",
    "    plt.plot(Y,-A_G[:,int(points/2)], label=\"G sans dipoles\")\n",
    "    plt.plot(Y, -q*np.log(Y/R)/(2*np.pi)+phi_bar, label=\"2D log G\")\n",
    "    plt.scatter(t.r,FV, label=\"FV\")\n",
    "    plt.xlabel(\"y\")\n",
    "    plt.ylabel(\"$\\phi$\")\n",
    "    plt.ylim((0,np.max([phi_bar, np.max(-A_G)])*1.2))\n",
    "    plt.legend()\n",
    "    \n",
    "    plt.title(title_figure)\n",
    "    addpath=\"figs_aut/R={}/lim={}/\".format(int(R*100), int(lim))\n",
    "    \n",
    "    plt.savefig(addpath + title_figure +\".pdf\")\n",
    "    plt.show()"
   ]
  },
  {
   "cell_type": "code",
   "execution_count": 15,
   "metadata": {},
   "outputs": [
    {
     "name": "stdout",
     "output_type": "stream",
     "text": [
      "lim=2000, R=0.1, A=-1.0, B=1.0, p=15\n",
      "lim=2000, R=0.1, A=-1.0, B=0.5, p=15\n",
      "lim=2000, R=0.1, A=-1.0, B=0.25, p=15\n",
      "lim=2000, R=0.1, A=-0.5, B=1.0, p=15\n",
      "lim=2000, R=0.1, A=-0.5, B=0.5, p=15\n",
      "lim=2000, R=0.1, A=-0.5, B=0.25, p=15\n",
      "lim=2000, R=0.1, A=-0.3, B=1.0, p=15\n",
      "lim=2000, R=0.1, A=-0.3, B=0.5, p=15\n",
      "lim=2000, R=0.1, A=-0.3, B=0.25, p=15\n",
      "lim=2000, R=0.2, A=-1.0, B=1.0, p=15\n",
      "lim=2000, R=0.2, A=-1.0, B=0.5, p=15\n",
      "lim=2000, R=0.2, A=-1.0, B=0.25, p=15\n",
      "lim=2000, R=0.2, A=-0.5, B=1.0, p=15\n",
      "lim=2000, R=0.2, A=-0.5, B=0.5, p=15\n",
      "lim=2000, R=0.2, A=-0.5, B=0.25, p=15\n",
      "lim=2000, R=0.2, A=-0.3, B=1.0, p=15\n",
      "lim=2000, R=0.2, A=-0.3, B=0.5, p=15\n",
      "lim=2000, R=0.2, A=-0.3, B=0.25, p=15\n",
      "lim=2000, R=0.5, A=-1.0, B=1.0, p=15\n",
      "lim=2000, R=0.5, A=-1.0, B=0.5, p=15\n",
      "lim=2000, R=0.5, A=-1.0, B=0.25, p=15\n",
      "lim=2000, R=0.5, A=-0.5, B=1.0, p=15\n",
      "lim=2000, R=0.5, A=-0.5, B=0.5, p=15\n",
      "lim=2000, R=0.5, A=-0.5, B=0.25, p=15\n",
      "lim=2000, R=0.5, A=-0.3, B=1.0, p=15\n",
      "lim=2000, R=0.5, A=-0.3, B=0.5, p=15\n",
      "lim=2000, R=0.5, A=-0.3, B=0.25, p=15\n",
      "lim=1000, R=0.1, A=-1.0, B=1.0, p=15\n",
      "lim=1000, R=0.1, A=-1.0, B=0.5, p=15\n",
      "lim=1000, R=0.1, A=-1.0, B=0.25, p=15\n",
      "lim=1000, R=0.1, A=-0.5, B=1.0, p=15\n",
      "lim=1000, R=0.1, A=-0.5, B=0.5, p=15\n",
      "lim=1000, R=0.1, A=-0.5, B=0.25, p=15\n",
      "lim=1000, R=0.1, A=-0.3, B=1.0, p=15\n",
      "lim=1000, R=0.1, A=-0.3, B=0.5, p=15\n",
      "lim=1000, R=0.1, A=-0.3, B=0.25, p=15\n",
      "lim=1000, R=0.2, A=-1.0, B=1.0, p=15\n",
      "lim=1000, R=0.2, A=-1.0, B=0.5, p=15\n",
      "lim=1000, R=0.2, A=-1.0, B=0.25, p=15\n",
      "lim=1000, R=0.2, A=-0.5, B=1.0, p=15\n",
      "lim=1000, R=0.2, A=-0.5, B=0.5, p=15\n",
      "lim=1000, R=0.2, A=-0.5, B=0.25, p=15\n",
      "lim=1000, R=0.2, A=-0.3, B=1.0, p=15\n",
      "lim=1000, R=0.2, A=-0.3, B=0.5, p=15\n",
      "lim=1000, R=0.2, A=-0.3, B=0.25, p=15\n",
      "lim=1000, R=0.5, A=-1.0, B=1.0, p=15\n",
      "lim=1000, R=0.5, A=-1.0, B=0.5, p=15\n",
      "lim=1000, R=0.5, A=-1.0, B=0.25, p=15\n",
      "lim=1000, R=0.5, A=-0.5, B=1.0, p=15\n",
      "lim=1000, R=0.5, A=-0.5, B=0.5, p=15\n",
      "lim=1000, R=0.5, A=-0.5, B=0.25, p=15\n",
      "lim=1000, R=0.5, A=-0.3, B=1.0, p=15\n",
      "lim=1000, R=0.5, A=-0.3, B=0.5, p=15\n",
      "lim=1000, R=0.5, A=-0.3, B=0.25, p=15\n"
     ]
    },
    {
     "data": {
      "image/png": "[encoded data removed]",
      "text/plain": [
       "<Figure size 432x288 with 1 Axes>"
      ]
     },
     "metadata": {
      "needs_background": "light"
     },
     "output_type": "display_data"
    }
   ],
   "source": [
    "\n",
    "points=10\n",
    "DD=40\n",
    "epsilon=0.01\n",
    "L=1\n",
    "points_theta=15\n",
    "\n",
    "for lim in np.array([2000,1000]):\n",
    "    for R in np.array([0.1,0.2,0.5]):\n",
    "        for A in np.array([-1,-0.5,-0.3]):\n",
    "            for B in np.array([1, 0.5,0.25]):\n",
    "                print(\"lim={}, R={}, A={}, B={}, p={}\".format(lim, R, A, B, points_theta))\n",
    "                #run_simulations(points, R, epsilon, A, B, L, lim, points_theta, DD)\n",
    "\n",
    "        \n",
    "        \n",
    "#Parameters problem    \n",
    "\n",
    "points=100\n",
    "\n",
    "L=1\n",
    "R=0.1\n",
    "X=np.linspace(0,L,points)\n",
    "Y=np.concatenate((np.linspace(R,L,points*10),np.linspace(L,10*L,points)))\n",
    "\n",
    "epsilon=R/10\n",
    "\n",
    "#boundary conditions\n",
    "A=-1 #A represents the derivative\n",
    "phi_bar=1\n",
    "q=-A*2*np.pi*R\n",
    "t=cylindrical_FV_code(L,points,phi_bar,A,R)\n",
    "FV=t.solve_full_system()\n",
    "\n",
    "plt.figure()\n",
    "plt.plot(Y, -q*np.log(Y/R)/(2*np.pi)+phi_bar, label=\"2D log G\")\n",
    "plt.scatter(t.r,FV, label=\"FV\")\n",
    "plt.legend()\n",
    "plt.show()"
   ]
  },
  {
   "cell_type": "code",
   "execution_count": 16,
   "metadata": {},
   "outputs": [
    {
     "data": {
      "image/png": "[encoded data removed]",
      "text/plain": [
       "<Figure size 432x288 with 2 Axes>"
      ]
     },
     "metadata": {
      "needs_background": "light"
     },
     "output_type": "display_data"
    },
    {
     "data": {
      "text/plain": [
       "Text(0.5, 1.0, 'Comparison length=4, A=-1, B=1, disc=40')"
      ]
     },
     "execution_count": 16,
     "metadata": {},
     "output_type": "execute_result"
    },
    {
     "data": {
      "image/png": "[encoded data removed]",
      "text/plain": [
       "<Figure size 432x288 with 1 Axes>"
      ]
     },
     "metadata": {
      "needs_background": "light"
     },
     "output_type": "display_data"
    }
   ],
   "source": [
    "\n",
    "\n",
    "A_dip=np.zeros((len(Y),2))\n",
    "A_G=np.zeros((len(Y),2))\n",
    "\n",
    "surf=0\n",
    "lim=2\n",
    "\n",
    "DD=40 #discretization per unit length of the axial coordinate of the vessel\n",
    "p_long=DD*lim #points of discretization of the long tube\n",
    "\n",
    "cc=0\n",
    "\n",
    "\n",
    "\n",
    "points_x=np.array((int(points/3), int(points/2)))\n",
    "\n",
    "d=0\n",
    "for i in points_x:\n",
    "    for j in range(len(Y)):\n",
    "        \n",
    "        #This loop goes through each surface element on the plane \n",
    "        A_dip[j,d], A_G[j,d], dz, dth=almost_inf_tube(lim,np.array([X[i], Y[j], 0]), points_theta, p_long, epsilon,A,phi_bar,R)\n",
    "    \n",
    "        bb=np.array([i,j])\n",
    "        cc+=1\n",
    "        #print(len(X)*len(Y)-cc)\n",
    "    d+=1\n",
    "    \n",
    "total_surf=2*np.pi*R*lim*2\n",
    "\n",
    "Difference=-q*np.log(Y/R)/(2*np.pi)+phi_bar+A_G[:,0]\n",
    "\n",
    "C=+A_dip-A_G\n",
    "plt.imshow(C, origin=\"lower\",extent=[X[0],X[-1],Y[0],Y[-1]]); plt.colorbar()\n",
    "plt.show()\n",
    "\n",
    "plt.plot(Y,C[:,0], '--', label=\"Green's third\")\n",
    "plt.plot(Y,C[:,1], '-.',label=\"Green's third\")\n",
    "plt.plot(Y,-A_G[:,0], label=\"G sans dipoles\")\n",
    "plt.plot(Y, -q*np.log(Y/R)/(2*np.pi)+phi_bar, label=\"2D log G\")\n",
    "plt.plot(Y, Difference, label=\"Difference\")\n",
    "plt.scatter(t.r,FV, label=\"FV\")\n",
    "plt.xlabel(\"y\")\n",
    "plt.ylabel(\"$\\phi$\")\n",
    "plt.ylim((-np.max([phi_bar, np.max(-A_G)*1.2]),np.max([phi_bar, np.max(-A_G)*1.2])))\n",
    "plt.legend()\n",
    "title_figure=\"Comparison length={}, A={}, B={}, disc={}\".format(lim*2, A, phi_bar, DD)\n",
    "plt.title(title_figure)"
   ]
  },
  {
   "cell_type": "code",
   "execution_count": 17,
   "metadata": {},
   "outputs": [
    {
     "name": "stdout",
     "output_type": "stream",
     "text": [
      "0.8907761135375977\n",
      "0.9018501678927985\n",
      "0.9122062051355457\n",
      "0.9217687298210895\n",
      "0.9304662791060085\n",
      "0.9382325302810953\n",
      "0.945007303413673\n",
      "0.950737440539779\n",
      "0.955377551213729\n",
      "0.9588906215567787\n",
      "0.9612484894807874\n",
      "0.9624321920653167\n",
      "0.9624321920653167\n",
      "0.9612484894807874\n",
      "0.9588906215567787\n",
      "0.955377551213729\n",
      "0.950737440539779\n",
      "0.945007303413673\n",
      "0.9382325302810953\n",
      "0.9304662791060085\n",
      "0.9217687298210895\n",
      "0.9122062051355457\n",
      "0.9018501678927985\n"
     ]
    },
    {
     "data": {
      "text/plain": [
       "[<matplotlib.lines.Line2D at 0x7feb8156aee0>]"
      ]
     },
     "execution_count": 17,
     "metadata": {},
     "output_type": "execute_result"
    },
    {
     "data": {
      "image/png": "[encoded data removed]",
      "text/plain": [
       "<Figure size 432x288 with 1 Axes>"
      ]
     },
     "metadata": {
      "needs_background": "light"
     },
     "output_type": "display_data"
    }
   ],
   "source": [
    "import scipy.special as sp\n",
    "\n",
    "z=np.linspace(0.01,1,25)\n",
    "\n",
    "def k(inc_z, R):\n",
    "    return(1/(np.sqrt(1+(inc_z/R)**2)))\n",
    "\n",
    "def F(inc_z, R):\n",
    "    return(0.5*R**2*(inc_z**2+R**2)**(-1.5))\n",
    "\n",
    "\n",
    "G_bar=np.zeros(len(z))\n",
    "R=1\n",
    "c=0\n",
    "G_bar=sp.ellipk(k(z, R)**2)*k(z,R)/(4*np.pi**2*R)\n",
    "\n",
    "G_int=np.zeros(len(z))\n",
    "c=1\n",
    "for i in z[1:-1]:\n",
    "    vec_1=z[:c]\n",
    "    vec_2=z[:-c]\n",
    "    G_int[c]=np.sum(k(vec_1, R))/25+np.sum(k(vec_2,R))/25\n",
    "    print(G_int[c])\n",
    "    c+=1\n",
    "\n",
    "G_int[[0,-1]]=np.sum(k(z,R))/25\n",
    "\n",
    "    \n",
    "plt.plot(z,G_bar)\n",
    "plt.plot(z, 0.5*F(z, R))\n",
    "\n"
   ]
  },
  {
   "cell_type": "code",
   "execution_count": null,
   "metadata": {},
   "outputs": [],
   "source": []
  }
 ],
 "metadata": {
  "kernelspec": {
   "display_name": "Python 3",
   "language": "python",
   "name": "python3"
  },
  "language_info": {
   "codemirror_mode": {
    "name": "ipython",
    "version": 3
   },
   "file_extension": ".py",
   "mimetype": "text/x-python",
   "name": "python",
   "nbconvert_exporter": "python",
   "pygments_lexer": "ipython3",
   "version": "3.8.5"
  }
 },
 "nbformat": 4,
 "nbformat_minor": 4
}
